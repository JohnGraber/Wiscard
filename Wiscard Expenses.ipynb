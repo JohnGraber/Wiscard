{
 "cells": [
  {
   "cell_type": "markdown",
   "metadata": {},
   "source": [
    "# Wiscard Expenses"
   ]
  },
  {
   "cell_type": "markdown",
   "metadata": {},
   "source": [
    "## 1) screen scrape\n",
    "Start by refreshing the `wiscard.txt` file with a copy/paste of the data for the current month from the Wiscard site.\n",
    "\n",
    "https://services.jsatech.com/index.php?cid=120\n",
    "\n",
    "Copying the data from the \"printed\" verison of the data that appears in the pop-up window, and using\n",
    "\n",
    "`pbpaste > wiscard.txt`\n",
    "\n",
    "seems to have done the trick to preserve the tab delimiters.  Thus allowing awk to use \\t as a field separator.  This might work with the data straight from the regular web page report, but I'll try that another time."
   ]
  },
  {
   "cell_type": "markdown",
   "metadata": {},
   "source": [
    "## 2) grep for expenses only\n",
    "\n",
    "Filtering out payments, laundry, and any expenses from 'UBS', the University Book Store..."
   ]
  },
  {
   "cell_type": "code",
   "execution_count": 82,
   "metadata": {
    "collapsed": true
   },
   "outputs": [],
   "source": [
    "!egrep -v \"Laundry|Payment|UBS\" wiscard.txt > expenses.txt"
   ]
  },
  {
   "cell_type": "markdown",
   "metadata": {},
   "source": [
    "## 3) load dataframe"
   ]
  },
  {
   "cell_type": "code",
   "execution_count": 83,
   "metadata": {
    "collapsed": false
   },
   "outputs": [
    {
     "data": {
      "text/html": [
       "<div>\n",
       "<table border=\"1\" class=\"dataframe\">\n",
       "  <thead>\n",
       "    <tr style=\"text-align: right;\">\n",
       "      <th></th>\n",
       "      <th>datetime</th>\n",
       "      <th>location</th>\n",
       "      <th>charge</th>\n",
       "    </tr>\n",
       "  </thead>\n",
       "  <tbody>\n",
       "    <tr>\n",
       "      <th>0</th>\n",
       "      <td>2015-08-31 03:23:00</td>\n",
       "      <td>Urban Slice 2 - Charge</td>\n",
       "      <td>-1.94</td>\n",
       "    </tr>\n",
       "    <tr>\n",
       "      <th>1</th>\n",
       "      <td>2015-09-01 05:29:00</td>\n",
       "      <td>Four Lakes Market 6 - Charge</td>\n",
       "      <td>-5.75</td>\n",
       "    </tr>\n",
       "    <tr>\n",
       "      <th>2</th>\n",
       "      <td>2015-09-02 08:23:00</td>\n",
       "      <td>Carson's Market 1 - Charge</td>\n",
       "      <td>-1.32</td>\n",
       "    </tr>\n",
       "    <tr>\n",
       "      <th>3</th>\n",
       "      <td>2015-09-02 10:33:00</td>\n",
       "      <td>Memorial Lib Ref - Charge</td>\n",
       "      <td>-1.40</td>\n",
       "    </tr>\n",
       "    <tr>\n",
       "      <th>4</th>\n",
       "      <td>2015-09-02 11:18:00</td>\n",
       "      <td>Harvest Grains 2 - Charge</td>\n",
       "      <td>-6.89</td>\n",
       "    </tr>\n",
       "  </tbody>\n",
       "</table>\n",
       "</div>"
      ],
      "text/plain": [
       "             datetime                      location  charge\n",
       "0 2015-08-31 03:23:00        Urban Slice 2 - Charge   -1.94\n",
       "1 2015-09-01 05:29:00  Four Lakes Market 6 - Charge   -5.75\n",
       "2 2015-09-02 08:23:00    Carson's Market 1 - Charge   -1.32\n",
       "3 2015-09-02 10:33:00     Memorial Lib Ref - Charge   -1.40\n",
       "4 2015-09-02 11:18:00     Harvest Grains 2 - Charge   -6.89"
      ]
     },
     "execution_count": 83,
     "metadata": {},
     "output_type": "execute_result"
    }
   ],
   "source": [
    "import pandas as pd\n",
    "\n",
    "expenses = pd.read_table('expenses.txt',\n",
    "                         sep='\\t',\n",
    "                         header=None,\n",
    "                         usecols=[0, 1, 2],\n",
    "                         names=['datetime', 'location','charge'],\n",
    "                         parse_dates=['datetime'],\n",
    "                         date_parser=lambda x: pd.to_datetime('15/'+x, format=\"%y/%m/%d %H:%M %p\")\n",
    "                        )\n",
    "\n",
    "\n",
    "expenses.head()"
   ]
  },
  {
   "cell_type": "markdown",
   "metadata": {},
   "source": [
    "## 4) calulate spending by day and daily average"
   ]
  },
  {
   "cell_type": "code",
   "execution_count": 93,
   "metadata": {
    "collapsed": false
   },
   "outputs": [
    {
     "data": {
      "text/plain": [
       "-11.155967741935482"
      ]
     },
     "execution_count": 93,
     "metadata": {},
     "output_type": "execute_result"
    }
   ],
   "source": [
    "datetime_col = pd.DatetimeIndex(expenses.datetime)\n",
    "spending_by_day = expenses.groupby([datetime_col.month,datetime_col.day]).charge.sum()\n",
    "daily_average = spending_by_day.mean()\n",
    "daily_average"
   ]
  },
  {
   "cell_type": "code",
   "execution_count": null,
   "metadata": {
    "collapsed": true
   },
   "outputs": [],
   "source": []
  }
 ],
 "metadata": {
  "kernelspec": {
   "display_name": "Python 3",
   "language": "python",
   "name": "python3"
  },
  "language_info": {
   "codemirror_mode": {
    "name": "ipython",
    "version": 3
   },
   "file_extension": ".py",
   "mimetype": "text/x-python",
   "name": "python",
   "nbconvert_exporter": "python",
   "pygments_lexer": "ipython3",
   "version": "3.5.0"
  }
 },
 "nbformat": 4,
 "nbformat_minor": 0
}
